{
 "cells": [
  {
   "cell_type": "code",
   "execution_count": null,
   "metadata": {},
   "outputs": [],
   "source": [
    "%matplotlib notebook\n",
    "import matplotlib.pyplot as plt\n",
    "import numpy as np\n",
    "import ipywidgets as widgets\n",
    "from ipywidgets import interact, interactive, fixed, interact_manual\n",
    "from scipy import signal"
   ]
  },
  {
   "cell_type": "code",
   "execution_count": null,
   "metadata": {
    "scrolled": false
   },
   "outputs": [],
   "source": [
    "x = np.linspace(0, np.pi, 10000)\n",
    "triangle = signal.sawtooth(2 * np.pi * 15 * x, 0.5)\n",
    "\n",
    "fig, (ax_ctrl, ax_pwm) = plt.subplots(2, 1, figsize=(10,4))\n",
    "fig.suptitle('PWM comparing with sine and triangular waveforms')\n",
    "\n",
    "ax_pwm.set_ylim([-1, 1])\n",
    "\n",
    "def gen_pwm(amplitude, x, control, reference):\n",
    "    y = control - reference\n",
    "    y[y>=0] = amplitude\n",
    "    y[y<0] = -amplitude\n",
    "    return y\n",
    "    \n",
    "def update_sine(ax_ctrl, ax_pwm, ctrl_freq, ctrl_ampl):\n",
    "    ax_ctrl.clear()\n",
    "    ax_pwm.clear()\n",
    "    \n",
    "    y_ctrl = ctrl_ampl * np.sin(2 * np.pi * ctrl_freq * x)\n",
    "    ax_ctrl.plot(x, triangle)\n",
    "    ax_ctrl.plot(x, y_ctrl)\n",
    "    \n",
    "    pwm = gen_pwm(1, x, y_ctrl, triangle)\n",
    "    ax_pwm.plot(x, y_ctrl, '--', color='orange')\n",
    "    ax_pwm.plot(x, pwm)\n",
    "\n",
    "sine_freq_w = widgets.FloatSlider(\n",
    "    min=0.0, \n",
    "    max=5, \n",
    "    step=.01, \n",
    "    value=1, \n",
    "    description='Frequency', \n",
    "    continuous_update=True\n",
    ")\n",
    "\n",
    "sine_amp_w = widgets.FloatSlider(\n",
    "    min=0.0, \n",
    "    max=.99, \n",
    "    step=.01, \n",
    "    value=.99, \n",
    "    description='Amplitude', \n",
    "    continuous_update=True, \n",
    "    orientation='vertical'\n",
    ")\n",
    "\n",
    "interact(update_sine, ax_ctrl=fixed(ax_ctrl), ax_pwm=fixed(ax_pwm), ctrl_freq=sine_freq_w, ctrl_ampl=sine_amp_w);"
   ]
  },
  {
   "cell_type": "code",
   "execution_count": null,
   "metadata": {},
   "outputs": [],
   "source": []
  }
 ],
 "metadata": {
  "kernelspec": {
   "display_name": "Python 3",
   "language": "python",
   "name": "python3"
  },
  "language_info": {
   "codemirror_mode": {
    "name": "ipython",
    "version": 3
   },
   "file_extension": ".py",
   "mimetype": "text/x-python",
   "name": "python",
   "nbconvert_exporter": "python",
   "pygments_lexer": "ipython3",
   "version": "3.7.4"
  }
 },
 "nbformat": 4,
 "nbformat_minor": 2
}
